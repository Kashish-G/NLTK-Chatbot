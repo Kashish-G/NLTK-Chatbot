{
  "nbformat": 4,
  "nbformat_minor": 0,
  "metadata": {
    "colab": {
      "provenance": [],
      "authorship_tag": "ABX9TyP/hcrrHjaWCbmW88p9wFiz",
      "include_colab_link": true
    },
    "kernelspec": {
      "name": "python3",
      "display_name": "Python 3"
    },
    "language_info": {
      "name": "python"
    }
  },
  "cells": [
    {
      "cell_type": "markdown",
      "metadata": {
        "id": "view-in-github",
        "colab_type": "text"
      },
      "source": [
        "<a href=\"https://colab.research.google.com/github/Kashish-G/NLTK-Chatbot/blob/main/NLTK_Chatbot.ipynb\" target=\"_parent\"><img src=\"https://colab.research.google.com/assets/colab-badge.svg\" alt=\"Open In Colab\"/></a>"
      ]
    },
    {
      "cell_type": "code",
      "source": [
        "from google.colab import drive\n",
        "drive.mount('/content/drive')"
      ],
      "metadata": {
        "colab": {
          "base_uri": "https://localhost:8080/"
        },
        "id": "lvKPkB8FmeXz",
        "outputId": "793f5376-bc9a-420c-936a-123b2021178f"
      },
      "execution_count": null,
      "outputs": [
        {
          "output_type": "stream",
          "name": "stdout",
          "text": [
            "Mounted at /content/drive\n"
          ]
        }
      ]
    },
    {
      "cell_type": "code",
      "source": [
        "import numpy as np\n",
        "import nltk\n",
        "import string\n",
        "import random"
      ],
      "metadata": {
        "id": "upKJY-Gzmsc2"
      },
      "execution_count": null,
      "outputs": []
    },
    {
      "cell_type": "code",
      "source": [
        "f=open('/content/drive/MyDrive/ChatBot/data.txt','r',errors='ignore')\n",
        "raw_doc=f.read()"
      ],
      "metadata": {
        "id": "5KUnXq49m13T"
      },
      "execution_count": null,
      "outputs": []
    },
    {
      "cell_type": "code",
      "source": [
        "raw_doc=raw_doc.lower()\n",
        "nltk.download('punkt')\n",
        "nltk.download('wordnet')\n",
        "nltk.download('omw-1.4')\n",
        "sentence_tokens = nltk.sent_tokenize(raw_doc)\n",
        "word_tokens=nltk.word_tokenize(raw_doc)"
      ],
      "metadata": {
        "colab": {
          "base_uri": "https://localhost:8080/"
        },
        "id": "D24IRjAJnBaG",
        "outputId": "47f9f3d3-baf4-4692-b2ec-5d3320e46e99"
      },
      "execution_count": null,
      "outputs": [
        {
          "output_type": "stream",
          "name": "stderr",
          "text": [
            "[nltk_data] Downloading package punkt to /root/nltk_data...\n",
            "[nltk_data]   Unzipping tokenizers/punkt.zip.\n",
            "[nltk_data] Downloading package wordnet to /root/nltk_data...\n",
            "[nltk_data] Downloading package omw-1.4 to /root/nltk_data...\n"
          ]
        }
      ]
    },
    {
      "cell_type": "code",
      "source": [
        "raw_doc"
      ],
      "metadata": {
        "colab": {
          "base_uri": "https://localhost:8080/",
          "height": 139
        },
        "id": "oas3u1b8oEWj",
        "outputId": "bb0d2d09-468e-4df8-d9b1-50a883fb004a"
      },
      "execution_count": null,
      "outputs": [
        {
          "output_type": "execute_result",
          "data": {
            "text/plain": [
              "'chatbot\\n\\narticle\\ntalk\\nread\\nview source\\nview history\\n\\ntools\\npage semi-protected\\nfrom wikipedia, the free encyclopedia\\nfor other uses, see chatbot (disambiguation).\\n\\nparts of this article (those related to everything) need to be updated. the reason given is: this article is using citations from 1970 and virtually all claims about conversational capabilities are at least ten years out of date (for example the turing test was arguably made obsolete years ago by transformer models). please help update this article to reflect recent events or newly available information. (february 2023)\\n\\na virtual assistant chatbot\\n\\nthe 1966 eliza chatbot\\na chatbot (originally chatterbot) is a software application that aims to mimic human conversation through text or voice interactions, typically online.[1][2] the term \"chatterbot\" was originally coined by michael mauldin (creator of the first verbot) in 1994 to describe conversational programs.[3] modern chatbots are artificial intelligence (ai) systems that are capable of maintaining a conversation with a user in natural language and simulating the way a human would behave as a conversational partner. such technologies often utilize aspects of deep learning and natural language processing.\\n\\nrecently this field has gained widespread attention due to the popularity of openai\\'s chatgpt,[4] followed by alternatives such as microsoft\\'s bing chat (which uses openai\\'s gpt-4) and google\\'s bard.[5] such examples reflect the recent practice of such products being built based upon broad foundational large language models that get fine-tuned so as to target specific tasks or applications (i.e. simulating human conversation, in the case of chatbots). chatbots can also be designed or customized to further target even more specific situations and/or particular subject-matter domains.[6]\\n\\na major area where chatbots have long been used is in customer service and support, such as with various sorts of virtual assistants.[7] recently, companies spanning various industries have begun using the latest generative ai technologies to power more advanced developments in such areas.[8]\\n\\nbackground\\nin 1950, alan turing\\'s famous article \"computing machinery and intelligence\" was published,[9] which proposed what is now called the turing test as a criterion of intelligence. this criterion depends on the ability of a computer program to impersonate a human in a real-time written conversation with a human judge to the extent that the judge is unable to distinguish reliably—on the basis of the conversational content alone—between the program and a real human. the notoriety of turing\\'s proposed test stimulated great interest in joseph weizenbaum\\'s program eliza, published in 1966, which seemed to be able to fool users into believing that they were conversing with a real human. however weizenbaum himself did not claim that eliza was genuinely intelligent, and the introduction to his paper presented it more as a debunking exercise:\\n\\n[in] artificial intelligence ... machines are made to behave in wondrous ways, often sufficient to dazzle even the most experienced observer. but once a particular program is unmasked, once its inner workings are explained ... its magic crumbles away; it stands revealed as a mere collection of procedures ... the observer says to himself \"i could have written that\". with that thought, he moves the program in question from the shelf marked \"intelligent\", to that reserved for curios ... the object of this paper is to cause just such a re-evaluation of the program about to be \"explained\". few programs ever needed it more.[10]\\n\\neliza\\'s key method of operation (copied by chatbot designers ever since) involves the recognition of clue words or phrases in the input, and the output of the corresponding pre-prepared or pre-programmed responses that can move the conversation forward in an apparently meaningful way (e.g. by responding to any input that contains the word \\'mother\\' with \\'tell me more about your family\\').[10] thus an illusion of understanding is generated, even though the processing involved has been merely superficial. eliza showed that such an illusion is surprisingly easy to generate because human judges are so ready to give the benefit of the doubt when conversational responses are capable of being interpreted as \"intelligent\".\\n\\ninterface designers have come to appreciate that humans\\' readiness to interpret computer output as genuinely conversational—even when it is actually based on rather simple pattern-matching—can be exploited for useful purposes. most people prefer to engage with programs that are human-like, and this gives chatbot-style techniques a potentially useful role in interactive systems that need to elicit information from users, as long as that information is relatively straightforward and falls into predictable categories. thus, for example, online help systems can usefully employ chatbot techniques to identify the area of help that users require, potentially providing a \"friendlier\" interface than a more formal search or menu system. this sort of usage holds the prospect of moving chatbot technology from weizenbaum\\'s \"shelf ... reserved for curios\" to that marked \"genuinely useful computational methods\".\\n\\ndevelopment\\namong the most notable early chatbots are eliza (1966) and parry (1972).[11][12][13][14] more recent notable programs include a.l.i.c.e., jabberwacky and d.u.d.e (agence nationale de la recherche and cnrs 2006). while eliza and parry were used exclusively to simulate typed conversation, many chatbots now include other functional features, such as games and web searching abilities. in 1984, a book called the policeman\\'s beard is half constructed was published, allegedly written by the chatbot racter (though the program as released would not have been capable of doing so).[15]\\n\\none pertinent field of ai research is natural-language processing. usually, weak ai fields employ specialized software or programming languages created specifically for the narrow function required. for example, a.l.i.c.e. uses a markup language called aiml,[2] which is specific to its function as a conversational agent, and has since been adopted by various other developers of, so-called, alicebots. nevertheless, a.l.i.c.e. is still purely based on pattern matching techniques without any reasoning capabilities, the same technique eliza was using back in 1966. this is not strong ai, which would require sapience and logical reasoning abilities.\\n\\njabberwacky learns new responses and context based on real-time user interactions, rather than being driven from a static database. some more recent chatbots also combine real-time learning with evolutionary algorithms that optimize their ability to communicate based on each conversation held. still, there is currently no general purpose conversational artificial intelligence, and some software developers focus on the practical aspect, information retrieval.\\n\\nchatbot competitions focus on the turing test or more specific goals. two such annual contests are the loebner prize and the chatterbox challenge (the latter has been offline since 2015, however, materials can still be found from web archives).[16]\\n\\nchatbots may use neural networks as a language model. for example, generative pre-trained transformers (gpt), which use the transformer architecture, have become common to build sophisticated chatbots. the \"pre-training\" in its name refers to the initial training process on a large text corpus, which provides a solid foundation for the model to perform well on downstream tasks with limited amounts of task-specific data. an example of a gpt chatbot is chatgpt. despite criticism of its accuracy, chatgpt has gained attention for its detailed responses and historical knowledge. another example is biogpt, developed by microsoft, which focuses on answering biomedical questions.[17][18]\\n\\ndbpedia created a chatbot during the gsoc of 2017.[19][20][21] it can communicate through facebook messenger.\\n\\napplication\\nsee also: virtual assistant\\nmessaging apps\\nmany companies\\' chatbots run on messaging apps or simply via sms. they are used for b2c customer service, sales and marketing.[22]\\n\\nin 2016, facebook messenger allowed developers to place chatbots on their platform. there were 30,000 bots created for messenger in the first six months, rising to 100,000 by september 2017.[23]\\n\\nsince september 2017, this has also been as part of a pilot program on whatsapp. airlines klm and aeroméxico both announced their participation in the testing;[24][25][26][27] both airlines had previously launched customer services on the facebook messenger platform.\\n\\nthe bots usually appear as one of the user\\'s contacts, but can sometimes act as participants in a group chat.\\n\\nmany banks, insurers, media companies, e-commerce companies, airlines, hotel chains, retailers, health care providers, government entities and restaurant chains have used chatbots to answer simple questions, increase customer engagement,[28] for promotion, and to offer additional ways to order from them.[29]\\n\\na 2017 study showed 4% of companies used chatbots.[30] according to a 2016 study, 80% of businesses said they intended to have one by 2020.[31]\\n\\nas part of company apps and websites\\nprevious generations of chatbots were present on company websites, e.g. ask jenn from alaska airlines which debuted in 2008[32] or expedia\\'s virtual customer service agent which launched in 2011.[32][33] the newer generation of chatbots includes ibm watson-powered \"rocky\", introduced in february 2017 by the new york city-based e-commerce company rare carat to provide information to prospective diamond buyers.[34][35]\\n\\nchatbot sequences\\nused by marketers to script sequences of messages, very similar to an autoresponder sequence. such sequences can be triggered by user opt-in or the use of keywords within user interactions. after a trigger occurs a sequence of messages is delivered until the next anticipated user response. each user response is used in the decision tree to help the chatbot navigate the response sequences to deliver the correct response message.\\n\\ncompany internal platforms\\nother companies explore ways they can use chatbots internally, for example for customer support, human resources, or even in internet-of-things (iot) projects. overstock.com, for one, has reportedly launched a chatbot named mila to automate certain simple yet time-consuming processes when requesting sick leave.[36] other large companies such as lloyds banking group, royal bank of scotland, renault and citroën are now using automated online assistants instead of call centres with humans to provide a first point of contact. a saas chatbot business ecosystem has been steadily growing since the f8 conference when facebook\\'s mark zuckerberg unveiled that messenger would allow chatbots into the app.[37] in large companies, like in hospitals and aviation organizations, it architects are designing reference architectures for intelligent chatbots that are used to unlock and share knowledge and experience in the organization more efficiently, and reduce the errors in answers from expert service desks significantly.[38] these intelligent chatbots make use of all kinds of artificial intelligence like image moderation and natural-language understanding (nlu), natural-language generation (nlg), machine learning and deep learning.\\n\\ncustomer service\\nmany high-tech banking organizations are looking to integrate automated ai-based solutions such as chatbots into their customer service in order to provide faster and cheaper assistance to their clients who are becoming increasingly comfortable with technology. in particular, chatbots can efficiently conduct a dialogue, usually replacing other communication tools such as email, phone, or sms. in banking, their major application is related to quick customer service answering common requests, as well as transactional support.\\n\\nseveral studies report significant reduction in the cost of customer services, expected to lead to billions of dollars of economic savings in the next ten years.[39] in 2019, gartner predicted that by 2021, 15% of all customer service interactions globally will be handled completely by ai.[40] a study by juniper research in 2019 estimates retail sales resulting from chatbot-based interactions will reach $112 billion by 2023.[41]\\n\\nsince 2016, when facebook allowed businesses to deliver automated customer support, e-commerce guidance, content, and interactive experiences through chatbots, a large variety of chatbots were developed for the facebook messenger platform.[42]\\n\\nin 2016, russia-based tochka bank launched the world\\'s first facebook bot for a range of financial services, including a possibility of making payments.[43]\\n\\nin july 2016, barclays africa also launched a facebook chatbot, making it the first bank to do so in africa.[44]\\n\\nthe france\\'s third-largest bank by total assets[45] société générale launched their chatbot called sobot in march 2018. while 80% of users of the sobot expressed their satisfaction after having tested it, société générale deputy director bertrand cozzarolo stated that it will never replace the expertise provided by a human advisor. [46]\\n\\nthe advantages of using chatbots for customer interactions in banking include cost reduction, financial advice, and 24/7 support.[47][48]\\n\\nhealthcare\\nsee also: artificial intelligence in healthcare\\nchatbots are also appearing in the healthcare industry.[49][50] a study suggested that physicians in the united states believed that chatbots would be most beneficial for scheduling doctor appointments, locating health clinics, or providing medication information.[51]\\n\\nwhatsapp has teamed up with the world health organisation (who) to make a chatbot service that answers users’ questions on covid-19.[52]\\n\\nin 2020, the indian government launched a chatbot called mygov corona helpdesk,[53] that worked through whatsapp and helped people access information about the coronavirus (covid-19) pandemic.[54][55]\\n\\ncertain patient groups are still reluctant to use chatbots. a mixed-methods study showed that people are still hesitant to use chatbots for their healthcare due to poor understanding of the technological complexity, the lack of empathy, and concerns about cyber-security.[56] the analysis showed that while 6% had heard of a health chatbot and 3% had experience of using it, 67% perceived themselves as likely to use one within 12 months. the majority of participants would use a health chatbot for seeking general health information (78%), booking a medical appointment (78%), and looking for local health services (80%). however, a health chatbot was perceived as less suitable for seeking results of medical tests and seeking specialist advice such as sexual health. the analysis of attitudinal variables showed that most participants reported their preference for discussing their health with doctors (73%) and having access to reliable and accurate health information (93%). while 80% were curious about new technologies that could improve their health, 66% reported only seeking a doctor when experiencing a health problem and 65% thought that a chatbot was a good idea. interestingly, 30% reported dislike about talking to computers, 41% felt it would be strange to discuss health matters with a chatbot and about half were unsure if they could trust the advice given by a chatbot. therefore, perceived trustworthiness, individual attitudes towards bots, and dislike for talking to computers are the main barriers to health chatbots.\\n\\npolitics\\nsee also: government by algorithm § ai politicians\\nin new zealand, the chatbot sam – short for semantic analysis machine[57] (made by nick gerritsen of touchtech[58]) – has been developed. it is designed to share its political thoughts, for example on topics such as climate change, healthcare and education, etc. it talks to people through facebook messenger.[59][60][61][62]\\n\\nin 2022, the chatbot \"leader lars\" or \"leder lars\" was nominated for the synthetic party to run in the danish parliamentary election,[63] and was built by the artist collective computer lars.[64] leader lars differed from earlier virtual politicians by leading a political party and by not pretending to be an objective candidate.[65] this chatbot engaged in critical discussions on politics with users from around the world.[66]\\n\\nin india, the state government has launched a chatbot for its aaple sarkar platform,[67] which provides conversational access to information regarding public services managed.[68][69]\\n\\ntoys\\nchatbots have also been incorporated into devices not primarily meant for computing, such as toys.[70]\\n\\nhello barbie is an internet-connected version of the doll that uses a chatbot provided by the company toytalk,[71] which previously used the chatbot for a range of smartphone-based characters for children.[72] these characters\\' behaviors are constrained by a set of rules that in effect emulate a particular character and produce a storyline.[73]\\n\\nthe my friend cayla doll was marketed as a line of 18-inch (46 cm) dolls which uses speech recognition technology in conjunction with an android or ios mobile app to recognize the child\\'s speech and have a conversation. it, like the hello barbie doll, attracted controversy due to vulnerabilities with the doll\\'s bluetooth stack and its use of data collected from the child\\'s speech.\\n\\nibm\\'s watson computer has been used as the basis for chatbot-based educational toys for companies such as cognitoys[70] intended to interact with children for educational purposes.[74]\\n\\nmalicious use\\nmalicious chatbots are frequently used to fill chat rooms with spam and advertisements, by mimicking human behavior and conversations or to entice people into revealing personal information, such as bank account numbers. they were commonly found on yahoo! messenger, windows live messenger, aol instant messenger and other instant messaging protocols. there has also been a published report of a chatbot used in a fake personal ad on a dating service\\'s website.[75]\\n\\ntay, an ai chatbot that learns from previous interaction, caused major controversy due to it being targeted by internet trolls on twitter. the bot was exploited, and after 16 hours began to send extremely offensive tweets to users. this suggests that although the bot learned effectively from experience, adequate protection was not put in place to prevent misuse.[76]\\n\\nif a text-sending algorithm can pass itself off as a human instead of a chatbot, its message would be more credible. therefore, human-seeming chatbots with well-crafted online identities could start scattering fake news that seems plausible, for instance making false claims during an election. with enough chatbots, it might be even possible to achieve artificial social proof.[77][78]\\n\\nlimitations of chatbots\\nthe creation and implementation of chatbots is still a developing area, heavily related to artificial intelligence and machine learning, so the provided solutions, while possessing obvious advantages, have some important limitations in terms of functionalities and use cases. however, this is changing over time.\\n\\nthe most common limitations are listed below:[79]\\n\\nas the input/output database is fixed and limited, chatbots can fail while dealing with an unsaved query.[48]\\na chatbot\\'s efficiency highly depends on language processing and is limited because of irregularities, such as accents and mistakes.\\nchatbots are unable to deal with multiple questions at the same time and so conversation opportunities are limited.[79]\\nchatbots require a large amount of conversational data to train. generative models, which are based on deep learning algorithms to generate new responses word by word based on user input, are usually trained on a large dataset of natural-language phrases.[2]\\nchatbots have difficulty managing non-linear conversations that must go back and forth on a topic with a user.[80]\\nas it happens usually with technology-led changes in existing services, some consumers, more often than not from older generations, are uncomfortable with chatbots due to their limited understanding, making it obvious that their requests are being dealt with by machines.[79]\\nchatbots and jobs\\nchatbots are increasingly present in businesses and often are used to automate tasks that do not require skill-based talents. with customer service taking place via messaging apps as well as phone calls, there are growing numbers of use-cases where chatbot deployment gives organizations a clear return on investment. call center workers may be particularly at risk from ai-driven chatbots.[81]\\n\\nchatbot jobs\\n\\nchatbot developers create, debug, and maintain applications that automate customer services or other communication processes. their duties include reviewing and simplifying code when needed. they may also help companies implement bots in their operations.\\n\\na study by forrester (june 2017) predicted that 25% of all jobs would be impacted by ai technologies by 2019.[82]\\n\\nsee also\\nicon\\tlinguistics portal\\napplications of artificial intelligence\\nautonomous agent\\nchatgpt (from openai)\\nconversational user interface\\neugene goostman\\nfriendly artificial intelligence\\nhybrid intelligent system\\nintelligent agent\\ninternet bot\\nlist of chatbots\\nmulti-agent system\\nnatural language processing\\nsocial bot\\nsoftware agent\\nsoftware bot\\ntwitterbot\\nreferences\\n \"what is a chatbot?\". techtarget.com. archived from the original on 2 november 2010. retrieved 30 january 2017.\\n caldarini, guendalina; jaf, sardar; mcgarry, kenneth (2022). \"a literature survey of recent advances in chatbots\". information. mdpi. 13 (1): 41. doi:10.3390/info13010041.\\n mauldin, michael (1994), \"chatterbots, tinymuds, and the turing test: entering the loebner prize competition\", proceedings of the eleventh national conference on artificial intelligence, aaai press, archived from the original on 13 december 2007, retrieved 5 march 2008\\n https://www.reuters.com/technology/chatgpt-sets-record-fastest-growing-user-base-analyst-note-2023-02-01/\\n https://www.cnet.com/tech/services-and-software/chatgpt-vs-bing-vs-google-bard-which-ai-is-the-most-helpful/\\n https://www.livemint.com/technology/tech-news/gpt4-takes-the-world-by-storm-list-of-companies-that-integrated-the-chatbot-11679293885004.html\\n \"2017 messenger bot landscape, a public spreadsheet gathering 1000+ messenger bots\". 3 may 2017. archived from the original on 2 february 2019. retrieved 1 february 2019.\\n https://www.livemint.com/technology/tech-news/gpt4-takes-the-world-by-storm-list-of-companies-that-integrated-the-chatbot-11679293885004.html\\n turing, alan (1950), \"computing machinery and intelligence\", mind, 59 (236): 433–460, doi:10.1093/mind/lix.236.433\\n weizenbaum, joseph (january 1966), \"eliza – a computer program for the study of natural language communication between man and machine\", communications of the acm, 9 (1): 36–45, doi:10.1145/365153.365168, s2cid 1896290\\n güzeldere, güven; franchi, stefano (24 july 1995), \"constructions of the mind\", stanford humanities review, sehr, stanford university, 4 (2), archived from the original on 11 july 2007, retrieved 5 march 2008\\n computer history museum (2006), \"internet history – 1970\\'s\", exhibits, computer history museum, archived from the original on 21 february 2008, retrieved 5 march 2008\\n sondheim, alan j (1997), <nettime> important documents from the early internet (1972), nettime.org, archived from the original on 13 june 2008, retrieved 5 march 2008\\n network working group (1973), \"rfc 439, parry encounters the doctor\", internet engineering task force, internet society, doi:10.17487/rfc0439, archived from the original on 20 february 2008, retrieved 5 march 2008 – transcript of a session between parry and eliza. (this is not the dialogue from the iccc, which took place 24–26 october 1972, whereas this session is from 18 september 1972.)\\n the policeman\\'s beard is half constructed archived 4 february 2010 at the wayback machine. everything2.com. 13 november 1999\\n \"chatroboter simulieren menschen\".[permanent dead link]\\n luo, renqian; sun, liai; xia, yingce; qin, tao; zhang, sheng; poon, hoifung; liu, tie-yan; et al. (2022). \"biogpt: generative pre-trained transformer for biomedical text generation and mining\". brief bioinform. 23 (6). doi:10.1093/bib/bbac409. pmid 36156661.\\n bastian, matthias (29 january 2023). \"biogpt is a microsoft language model trained for biomedical tasks\". the decoder. archived from the original on 7 february 2023. retrieved 7 february 2023.\\n \"dbpedia chatbot\". chat.dbpedia.org. archived from the original on 8 september 2019. retrieved 9 september 2019.\\n \"meet the dbpedia chatbot | dbpedia\". wiki.dbpedia.org. 22 august 2018. archived from the original on 2 september 2019. retrieved 2 september 2019.\\n \"meet the dbpedia chatbot\". dbpedia.org. 22 august 2018. archived from the original on 2 september 2019. retrieved 2 september 2019.\\n beaver, laurie (july 2016). the chatbots explainer. bi intelligence. archived from the original on 3 may 2019. retrieved 4 november 2019.\\n \"facebook messenger hits 100,000 bots\". 18 april 2017. archived from the original on 22 september 2017. retrieved 22 september 2017.\\n \"klm claims airline first with whatsapp business platform\". www.phocuswire.com. archived from the original on 5 february 2020. retrieved 12 december 2021.\\n forbes staff (26 october 2017). \"aeroméxico te atenderá por whatsapp durante 2018\". archived from the original on 2 july 2018. retrieved 2 july 2018.\\n \"podrás hacer \\'check in\\' y consultar tu vuelo con aeroméxico a través de whatsapp\". huffington post. 27 october 2017. archived from the original on 10 march 2018. retrieved 2 july 2018.\\n \"building for people, and now businesses\". whatsapp.com. archived from the original on 9 february 2018. retrieved 2 july 2018.\\n \"she is the company\\'s most effective employee\". nordea news. september 2017. archived from the original on 23 march 2023. retrieved 23 march 2023.\\n \"better believe the bot boom is blowing up big for b2b, b2c businesses\". venturebeat. 24 july 2016. archived from the original on 3 august 2017. retrieved 30 august 2017.\\n capan, faruk (18 october 2017). \"the ai revolution is underway!\". www.pm360online.com. archived from the original on 8 march 2018. retrieved 7 march 2018.\\n \"80% of businesses want chatbots by 2020\". business insider. 15 december 2016. archived from the original on 8 march 2018. retrieved 7 march 2018.\\n \"a virtual travel agent with all the answers\". the new york times. 4 march 2008. archived from the original on 15 june 2017. retrieved 3 august 2017.\\n \"chatbot vendor directory released\". www.hypergridbusiness.com. october 2011. archived from the original on 23 april 2017. retrieved 23 april 2017.\\n \"rare carat\\'s watson-powered chatbot will help you put a diamond ring on it\". techcrunch. 15 february 2017. archived from the original on 22 august 2017. retrieved 22 august 2017.\\n \"10 ways you may have already used ibm watson\". venturebeat. 10 march 2017. archived from the original on 22 august 2017. retrieved 22 august 2017.\\n greenfield, rebecca (5 may 2016). \"chatbots are your newest, dumbest co-workers\". bloomberg.com. archived from the original on 6 april 2017. retrieved 6 march 2017.\\n \"facebook opens its messenger platform to chatbots\". 12 april 2016. archived from the original on 23 june 2017. retrieved 22 june 2017.\\n \"chatbot reference architecture\". 1 january 2019. archived from the original on 15 january 2019. retrieved 14 january 2019.\\n hingrajia, mirant. \"how chatbots are transforming wall street and main street banks?\". marutitech. archived from the original on 1 april 2019. retrieved 1 april 2019.\\n \"how to manage customer service technology innovation\". www.gartner.com. archived from the original on 11 december 2019. retrieved 2 january 2020.\\n smith, sam (8 may 2019). \"chatbot interactions to reach 22 billion by 2023, as as ai offers compelling new engagement solutions\". juniper research. archived from the original on 2 january 2020. retrieved 2 january 2020.\\n \"facebook launches messenger platform with chatbots\". techcrunch. 12 april 2016. archived from the original on 26 october 2019. retrieved 1 april 2019.\\n \"российский банк запустил чат-бота в facebook\". vedomosti.ru. 13 july 2016. archived from the original on 1 april 2019. retrieved 1 april 2019.\\n \"absa launches \\'world-first\\' facebook messenger banking\". 19 july 2016. archived from the original on 1 april 2019. retrieved 1 april 2019.\\n \"the biggest french banks by total assets\". banks around the world. archived from the original on 9 july 2017. retrieved 1 april 2019.\\n \"gagner du temps avec le chatbot bancaire pour gagner en intelligence avec les conseillers\". marketing client. 19 june 2018. archived from the original on 1 april 2019. retrieved 1 april 2019.\\n marous, jim (14 march 2018). \"meet 11 of the most interesting chatbots in banking\". the financial brand. archived from the original on 1 april 2019. retrieved 1 april 2019.\\n \"chatbots: boon or bane?\". bluelupin. 9 january 2018. archived from the original on 1 april 2019. retrieved 1 april 2019.\\n larson, selena (11 october 2016). \"baidu is bringing ai chatbots to healthcare\". cnn money. archived from the original on 3 january 2020. retrieved 3 january 2020.\\n \"ai chatbots have a future in healthcare, with caveats\". ai in healthcare. archived from the original on 23 march 2023. retrieved 17 september 2019.\\n palanica, adam; flaschner, peter; thommandram, anirudh; li, michael; fossat, yan (3 january 2019). \"physicians\\' perceptions of chatbots in health care: cross-sectional web-based survey\". journal of medical internet research. 21 (4): e12887. doi:10.2196/12887. pmc 6473203. pmid 30950796.\\n ahaskar, abhijit (27 march 2020). \"how whatsapp chatbots are helping in the fight against covid-19\". mint. archived from the original on 23 july 2020. retrieved 23 july 2020.\\n \"india\\'s coronavirus chatbot on whatsapp crosses 1.7 crore users in 10 days\". ndtv gadgets 360. archived from the original on 21 june 2020. retrieved 23 july 2020.\\n kurup, rajesh (21 march 2020). \"covid-19: govt of india launches a whatsapp chatbot\". business line. archived from the original on 23 july 2020. retrieved 23 july 2020.\\n \"in focus: mumbai-based haptik which developed india\\'s official whatsapp chatbot for covid-19\". hindustan times. 7 april 2020. archived from the original on 23 july 2020. retrieved 23 july 2020.\\n nadarzynski, tom; miles, oliver; cowie, aimee; ridge, damien (1 january 2019). \"acceptability of artificial intelligence (ai)-led chatbot services in healthcare: a mixed-methods study\". digital health. 5: 2055207619871808. doi:10.1177/2055207619871808. pmc 6704417. pmid 31467682.\\n \"sam, the virtual politician\". tuia innovation. archived from the original on 1 september 2019. retrieved 9 september 2019.\\n wellington, victoria university of (15 december 2017). \"meet the world\\'s first virtual politician\". victoria university of wellington. archived from the original on 3 january 2020. retrieved 3 january 2020.\\n wagner, meg (23 november 2017). \"this virtual politician wants to run for office\". cnn. archived from the original on 1 september 2019. retrieved 9 september 2019.\\n \"talk with the first-ever robot politician on facebook messenger\". engadget. 25 november 2017. archived from the original on 4 august 2019. retrieved 9 september 2019.\\n prakash, abishur (8 august 2018). \"ai-politicians: a revolution in politics\". medium. archived from the original on 10 august 2019. retrieved 1 september 2019.\\n \"sam website\". archived from the original on 11 may 2021. retrieved 23 may 2021.\\n sternberg, sarah (20 june 2022). \"danskere vil ind på den politiske scene med kunstig intelligens\" [danes want to enter the political scene with artificial intelligence]. jyllands-posten. archived from the original on 20 june 2022. retrieved 20 june 2022.\\n diwakar, amar (22 august 2022). \"can an ai-led danish party usher in an age of algorithmic politics?\". trt world. archived from the original on 22 august 2022. retrieved 22 august 2022.\\n xiang, chloe (13 october 2022). \"this danish political party is led by an ai\". vice: motherboard. archived from the original on 13 october 2022. retrieved 13 october 2022.\\n hearing, alice (14 october 2022). \"a.i. chatbot is leading a danish political party and setting its policies. now users are grilling it for its stance on political landmines\". fortune. archived from the original on 22 december 2022. retrieved 8 december 2022.\\n \"maharashtra government launches aaple sarkar chatbot to provide info on 1,400 public services\". cnbc tv18. 5 march 2019. archived from the original on 23 july 2020. retrieved 23 july 2020.\\n \"government of maharashtra launches aaple sarkar chatbot with haptik\". the economic times. archived from the original on 16 december 2020. retrieved 23 july 2020.\\n aggarwal, varun (5 march 2019). \"maharashtra launches aaple sarkar chatbot\". business line. archived from the original on 23 july 2020. retrieved 23 july 2020.\\n amy (23 february 2015). \"conversational toys – the latest trend in speech technology\". virtual agent chat. archived from the original on 21 february 2018. retrieved 11 august 2016.\\n nagy, evie (13 february 2015). \"using toy-talk technology, new hello barbie will have real conversations with kids\". fast company. archived from the original on 15 march 2015. retrieved 18 march 2015.\\n oren jacob, the co-founder and ceo of toytalk interviewed on the tv show triangulation on the twit.tv network\\n \"artificial intelligence script tool\". archived from the original on 12 december 2021. retrieved 12 december 2021.\\n takahashi, dean (23 february 2015). \"elemental\\'s smart connected toy taps ibm\\'s watson supercomputer for its brains\". venture beat. archived from the original on 20 may 2015. retrieved 15 may 2015.\\n epstein, robert (october 2007). \"from russia with love: how i got fooled (and somewhat humiliated) by a computer\" (pdf). scientific american: mind. pp. 16–17. archived (pdf) from the original on 19 october 2010. retrieved 9 december 2007. psychologist robert epstein reports how he was initially fooled by a chatterbot posing as an attractive girl in a personal ad he answered on a dating website. in the ad, the girl portrayed herself as being in southern california and then soon revealed, in poor english, that she was actually in russia. he became suspicious after a couple of months of email exchanges, sent her an email test of gibberish, and she still replied in general terms. the dating website is not named.\\n bird, jordan j.; ekart, aniko; faria, diego r. (june 2018). learning from interaction: an intelligent networked-based human-bot and bot-bot chatbot system in: advances in computational intelligence systems (1st ed.). nottingham, uk: springer. pp. 179–190. doi:10.1007/978-3-319-97982-3_15. isbn 978-3-319-97982-3. s2cid 52069140.\\n temming, maria (20 november 2018). \"how twitter bots get people to spread fake news\". science news. archived from the original on 27 november 2018. retrieved 20 november 2018.\\n epp, len (11 may 2016). \"five potential malicious uses for chatbots\". archived from the original on 24 february 2023. retrieved 24 february 2023.\\n marous, jim (14 march 2018). \"meet 11 of the most interesting chatbots in banking\". the financial brand. archived from the original on 1 april 2019. retrieved 1 april 2019.\\n grudin, jonathan; jacques, richard (2019), \"chatbots, humbots, and the quest for artificial general intelligence\", proceedings of the 2019 chi conference on human factors in computing systems – chi \\'19, acm chi 2020, pp. 209–219, doi:10.1145/3290605.3300439, isbn 978-1-4503-5970-2, s2cid 140274744\\n \"how talking machines are taking call center jobs\". bbc news. 23 august 2018. archived from the original on 1 april 2019. retrieved 1 april 2019.\\n \"how chatbots are killing jobs (and creating new ones)\". 18 june 2017. archived from the original on 1 april 2019. retrieved 1 april 2019.\\nfurther reading\\nsearle, john (1980), \"minds, brains and programs\", behavioral and brain sciences, 3 (3): 417–457, doi:10.1017/s0140525x00005756, s2cid 55303721\\nshevat, amir (2017). designing bots: creating conversational experiences (first ed.). sebastopol, ca: o\\'reilly media. isbn 978-1-4919-7482-7. oclc 962125282.\\nexternal links\\n media related to chatbots at wikimedia commons\\n conversational bots at wikibooks\\nvte\\nnatural language processing\\nportal:\\nicon language\\nauthority control: national edit this at wikidata\\t\\ngermanyczech republic\\ncategories: chatbotsinstant messaginginteractive narrativenatural language parsing\\nthis page was last edited on 1 may 2023, at 13:29 (utc).\\ntext is available under the creative commons attribution-sharealike license 3.0; additional terms may apply. by using this site, you agree to the terms of use and privacy policy. wikipedia® is a registered trademark of the wikimedia foundation, inc., a non-profit organization.\\n'"
            ],
            "application/vnd.google.colaboratory.intrinsic+json": {
              "type": "string"
            }
          },
          "metadata": {},
          "execution_count": 5
        }
      ]
    },
    {
      "cell_type": "code",
      "source": [
        "sentence_tokens[2]"
      ],
      "metadata": {
        "colab": {
          "base_uri": "https://localhost:8080/",
          "height": 53
        },
        "id": "TnqKdsF3oFZ6",
        "outputId": "9064749f-42f4-4b4a-f31e-86d4f7c4fcd2"
      },
      "execution_count": null,
      "outputs": [
        {
          "output_type": "execute_result",
          "data": {
            "text/plain": [
              "'the reason given is: this article is using citations from 1970 and virtually all claims about conversational capabilities are at least ten years out of date (for example the turing test was arguably made obsolete years ago by transformer models).'"
            ],
            "application/vnd.google.colaboratory.intrinsic+json": {
              "type": "string"
            }
          },
          "metadata": {},
          "execution_count": 6
        }
      ]
    },
    {
      "cell_type": "code",
      "source": [
        "word_tokens[2]"
      ],
      "metadata": {
        "colab": {
          "base_uri": "https://localhost:8080/",
          "height": 35
        },
        "id": "SD8zg52po318",
        "outputId": "d0c32fab-ab34-42ce-b943-c77c7bb7cf59"
      },
      "execution_count": null,
      "outputs": [
        {
          "output_type": "execute_result",
          "data": {
            "text/plain": [
              "'talk'"
            ],
            "application/vnd.google.colaboratory.intrinsic+json": {
              "type": "string"
            }
          },
          "metadata": {},
          "execution_count": 8
        }
      ]
    },
    {
      "cell_type": "code",
      "source": [
        "sentence_tokens[:5]"
      ],
      "metadata": {
        "colab": {
          "base_uri": "https://localhost:8080/"
        },
        "id": "RstE34cKo_MH",
        "outputId": "9502dab3-b26a-43f5-b1a6-ded3d2152255"
      },
      "execution_count": null,
      "outputs": [
        {
          "output_type": "execute_result",
          "data": {
            "text/plain": [
              "['chatbot\\n\\narticle\\ntalk\\nread\\nview source\\nview history\\n\\ntools\\npage semi-protected\\nfrom wikipedia, the free encyclopedia\\nfor other uses, see chatbot (disambiguation).',\n",
              " 'parts of this article (those related to everything) need to be updated.',\n",
              " 'the reason given is: this article is using citations from 1970 and virtually all claims about conversational capabilities are at least ten years out of date (for example the turing test was arguably made obsolete years ago by transformer models).',\n",
              " 'please help update this article to reflect recent events or newly available information.',\n",
              " '(february 2023)\\n\\na virtual assistant chatbot\\n\\nthe 1966 eliza chatbot\\na chatbot (originally chatterbot) is a software application that aims to mimic human conversation through text or voice interactions, typically online.']"
            ]
          },
          "metadata": {},
          "execution_count": 9
        }
      ]
    },
    {
      "cell_type": "code",
      "source": [
        "word_tokens[:5]"
      ],
      "metadata": {
        "colab": {
          "base_uri": "https://localhost:8080/"
        },
        "id": "mN0Mx6pApQEK",
        "outputId": "b4398f65-4a4d-4a98-de8e-7dc4056586cb"
      },
      "execution_count": null,
      "outputs": [
        {
          "output_type": "execute_result",
          "data": {
            "text/plain": [
              "['chatbot', 'article', 'talk', 'read', 'view']"
            ]
          },
          "metadata": {},
          "execution_count": 11
        }
      ]
    },
    {
      "cell_type": "code",
      "source": [
        "#remove strings or punctuations\n",
        "lemmer = nltk.stem.WordNetLemmatizer()\n",
        "def LemTokens(tokens):\n",
        "  return [lemmer.lemmatize(token) for token in tokens]\n",
        "remove_punct_dict = dict((ord(punct),None ) for punct in string.punctuation)\n",
        "def LemNormalize(text):\n",
        "  return LemTokens(nltk.word_tokenize(text.lower().translate(remove_punct_dict)))"
      ],
      "metadata": {
        "id": "BZFpiPdOpWD6"
      },
      "execution_count": null,
      "outputs": []
    },
    {
      "cell_type": "code",
      "source": [
        "#Greeting functions\n",
        "greet_inputs = ('hello','hi','whassup','how are you?')\n",
        "greet_responses = ('hi','Hey','Hey There!','There there!!')\n",
        "def greet(sentence):\n",
        "  for word in sentence.split():\n",
        "    if word.lower() in greet_inputs:\n",
        "      return random.choice(greet_responses)"
      ],
      "metadata": {
        "id": "Tte6FbwYqNOb"
      },
      "execution_count": null,
      "outputs": []
    },
    {
      "cell_type": "code",
      "source": [
        "from sklearn.feature_extraction.text import TfidfVectorizer\n",
        "from sklearn.metrics.pairwise import cosine_similarity"
      ],
      "metadata": {
        "id": "06CVkVOWqvTx"
      },
      "execution_count": null,
      "outputs": []
    },
    {
      "cell_type": "code",
      "source": [
        "def response(user_response):\n",
        "  robo1_response =''\n",
        "  TfidfVec = TfidfVectorizer(tokenizer = LemNormalize, stop_words = 'english')\n",
        "  tfidf = TfidfVec.fit_transform(sentence_tokens)\n",
        "  vals = cosine_similarity(tfidf[-1],tfidf)\n",
        "  idx=vals.argsort()[0][-2]\n",
        "  flat = vals.flatten()\n",
        "  flat.sort()\n",
        "  req_tfidf = flat[-2]\n",
        "  if (req_tfidf==0):\n",
        "    robo1_response=robo1_response + \"Iam sorry. Unable to understand you!\"\n",
        "    return robo1_response\n",
        "  else:\n",
        "    robo1_response=robo1_response+sentence_tokens[idx]\n",
        "    return robo1_response"
      ],
      "metadata": {
        "id": "ATKH7ygeriNz"
      },
      "execution_count": null,
      "outputs": []
    },
    {
      "cell_type": "code",
      "source": [
        "flag = True\n",
        "print('Hello! I am a Learning Bot. Start typing your text after greeting to talk to me.\\n')\n",
        "while(flag==True):\n",
        "  user_response = input()\n",
        "  user_response=user_response.lower()\n",
        "  if(user_response!='bye'):\n",
        "    if(user_response=='thank you' or user_response=='thanks'):\n",
        "      flag=print('Bot: You are welcome!')\n",
        "    else:\n",
        "      if(greet(user_response)!=None):\n",
        "        print(\"Bot: \"+greet(user_response))\n",
        "      else:\n",
        "        sentence_tokens.append(user_response)\n",
        "        word_tokens=word_tokens + nltk.word_tokenize(user_response)\n",
        "        final_word=list(set(word_tokens))\n",
        "        print(\"Bot: \", end='')\n",
        "        print(response(user_response))\n",
        "        sentence_tokens.remove(user_response)\n",
        "  else:\n",
        "    flag=False\n",
        "    print('Bot: Goodbye!')"
      ],
      "metadata": {
        "colab": {
          "base_uri": "https://localhost:8080/"
        },
        "id": "wwoSSSrAtm6P",
        "outputId": "ff7879f8-c1ba-4308-e1a4-661c8a823bf7"
      },
      "execution_count": null,
      "outputs": [
        {
          "output_type": "stream",
          "name": "stdout",
          "text": [
            "Hello! I am a Learning Bot. Start typing your text after greeting to talk to me.\n",
            "\n",
            "hi\n",
            "Bot: Hey\n",
            "What is a chatbot\n",
            "Bot: \"dbpedia chatbot\".\n",
            "can you tell me about turing test\n",
            "Bot: chatbot competitions focus on the turing test or more specific goals.\n",
            "thank you\n",
            "Bot: You are welcome!\n"
          ]
        }
      ]
    }
  ]
}